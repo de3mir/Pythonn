{
 "cells": [
  {
   "cell_type": "code",
   "execution_count": 2,
   "metadata": {},
   "outputs": [
    {
     "name": "stdout",
     "output_type": "stream",
     "text": [
      "a :55\n",
      "b :55\n",
      "c :55\n",
      "En büyük sayı 55\n"
     ]
    }
   ],
   "source": [
    "a = int(input(\"a :\"))\n",
    "\n",
    "b = int(input(\"b :\"))\n",
    "\n",
    "c = int(input(\"c :\"))\n",
    "\n",
    "if(a>=b and a>=b):\n",
    "    print(\"En büyük sayı\",a)\n",
    "elif(b>=a and b>=c):\n",
    "    print(\"En büyük sayı\",b)\n",
    "elif(c>=a and c>=b):\n",
    "    print(\"En büyük sayı\",c)\n"
   ]
  },
  {
   "cell_type": "code",
   "execution_count": null,
   "metadata": {},
   "outputs": [],
   "source": []
  }
 ],
 "metadata": {
  "kernelspec": {
   "display_name": "Python 3",
   "language": "python",
   "name": "python3"
  },
  "language_info": {
   "codemirror_mode": {
    "name": "ipython",
    "version": 3
   },
   "file_extension": ".py",
   "mimetype": "text/x-python",
   "name": "python",
   "nbconvert_exporter": "python",
   "pygments_lexer": "ipython3",
   "version": "3.8.5"
  }
 },
 "nbformat": 4,
 "nbformat_minor": 4
}
