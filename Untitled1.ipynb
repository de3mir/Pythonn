{
 "cells": [
  {
   "cell_type": "code",
   "execution_count": null,
   "metadata": {},
   "outputs": [
    {
     "name": "stdout",
     "output_type": "stream",
     "text": [
      "****************************\n",
      "     \n",
      "     ATM MAKİNESİ\n",
      "     \n",
      "     \n",
      " 1 Bakiye Sorgulama\n",
      " \n",
      " 2 Para çekme\n",
      " \n",
      " 3 Para yatırma \n",
      " \n",
      " 4 Çıkış\n",
      " \n",
      " \n",
      "*****************************\n",
      "Lütfen bir işlem seçin :1\n",
      "bakiye 4000 TL'dir \n",
      "Lütfen bir işlem seçin :2222222\n",
      "Geçersiz İşlem Girdiniz!\n",
      "Lütfen bir işlem seçin :1\n",
      "bakiye 4000 TL'dir \n",
      "Lütfen bir işlem seçin :2\n",
      "Çekmek istediğiniz tutarı girin :333333333333\n",
      "Bakiyeniz 333333329333 TL'dir \n",
      "Lütfen bir işlem seçin :3\n",
      "Yatırmak istediğiniz mkitarı girin222222222222\n",
      "Bakiyeniz 222222226222 TL'dir\n",
      "Lütfen bir işlem seçin :2\n",
      "Çekmek istediğiniz tutarı girin :3333\n",
      "Bakiyeniz -667 TL'dir \n",
      "Lütfen bir işlem seçin :3\n",
      "Yatırmak istediğiniz mkitarı girin2\n",
      "Bakiyeniz 4002 TL'dir\n",
      "Lütfen bir işlem seçin :3\n",
      "Yatırmak istediğiniz mkitarı girin2\n",
      "Bakiyeniz 4002 TL'dir\n",
      "Lütfen bir işlem seçin :2\n",
      "Çekmek istediğiniz tutarı girin :4001\n",
      "Bakiyeniz 1 TL'dir \n"
     ]
    }
   ],
   "source": [
    "print(\"\"\"****************************\n",
    "     \n",
    "     ATM MAKİNESİ\n",
    "     \n",
    "     \n",
    " 1 Bakiye Sorgulama\n",
    " \n",
    " 2 Para çekme\n",
    " \n",
    " 3 Para yatırma \n",
    " \n",
    " 4 Çıkış\n",
    " \n",
    " \n",
    "*****************************\"\"\")\n",
    "bakiye = 4000\n",
    "\n",
    "while True:\n",
    "    islem= input(\"Lütfen bir işlem seçin :\")\n",
    "    \n",
    "    if (islem == \"4\"):\n",
    "            print(\"Çıkış Yapılıyor...\")\n",
    "            break\n",
    "    elif (islem == \"1\"):\n",
    "            print(\"bakiye {} TL'dir \".format(bakiye))\n",
    "    elif (islem == \"2\"):\n",
    "            cekilecek_tutar= int(input(\"Çekmek istediğiniz tutarı girin :\"))\n",
    "            print(\"Bakiyeniz {} TL'dir \".format(cekilecek_tutar-bakiye))\n",
    "    elif (islem == \"3\"):\n",
    "            yatırılacak_miktar= int(input(\"Yatırmak istediğiniz mkitarı girin\"))\n",
    "            print(\"Bakiyeniz {} TL'dir\".format(yatırılacak_miktar+bakiye))\n",
    "    elif (islem== cekilecek_tutar<4000):\n",
    "        print(\"TUTAR\")\n",
    "    else:\n",
    "        print(\"Geçersiz İşlem Girdiniz!\")\n",
    "    if(int(bakiye)>4000):\n",
    "        print(\"Girdiğiniz tutar bakiyenizden yüksek\")"
   ]
  },
  {
   "cell_type": "code",
   "execution_count": null,
   "metadata": {},
   "outputs": [],
   "source": []
  },
  {
   "cell_type": "code",
   "execution_count": null,
   "metadata": {},
   "outputs": [],
   "source": []
  }
 ],
 "metadata": {
  "kernelspec": {
   "display_name": "Python 3",
   "language": "python",
   "name": "python3"
  },
  "language_info": {
   "codemirror_mode": {
    "name": "ipython",
    "version": 3
   },
   "file_extension": ".py",
   "mimetype": "text/x-python",
   "name": "python",
   "nbconvert_exporter": "python",
   "pygments_lexer": "ipython3",
   "version": "3.8.5"
  }
 },
 "nbformat": 4,
 "nbformat_minor": 4
}
